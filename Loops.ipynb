{
 "cells": [
  {
   "cell_type": "markdown",
   "id": "116def5f-2451-4b6f-8202-d440418b09ce",
   "metadata": {},
   "source": [
    "### For Loops (Repeat)"
   ]
  },
  {
   "cell_type": "code",
   "execution_count": null,
   "id": "70ed65fb-d688-40b7-9e10-9ff9cd57f0b4",
   "metadata": {},
   "outputs": [],
   "source": [
    "for item in something:\n",
    "    do this"
   ]
  },
  {
   "cell_type": "markdown",
   "id": "c3987653-965d-42e6-b759-9aa3ded94cb4",
   "metadata": {},
   "source": [
    "### Example 1: Printing Numbers"
   ]
  },
  {
   "cell_type": "code",
   "execution_count": null,
   "id": "e56eb66c-343e-4a73-8299-69922548d340",
   "metadata": {},
   "outputs": [],
   "source": [
    "for number in range(5):\n",
    "    print(number)"
   ]
  },
  {
   "cell_type": "markdown",
   "id": "6412e047-1b1c-493b-adf7-7889fd0f530f",
   "metadata": {},
   "source": [
    "### Example 2: Print Custom Messages"
   ]
  },
  {
   "cell_type": "code",
   "execution_count": null,
   "id": "1ed660a1-394d-4e55-94a0-e49941903eeb",
   "metadata": {},
   "outputs": [],
   "source": [
    "for i in range(2):\n",
    "    print(\"You are doing great\")"
   ]
  },
  {
   "cell_type": "markdown",
   "id": "1b38ed1c-7bf0-46d5-bad0-596d7e5f0dbd",
   "metadata": {},
   "source": [
    "### Range(Start, Stop)"
   ]
  },
  {
   "cell_type": "code",
   "execution_count": null,
   "id": "9666d6e5-1dd9-49d8-9f71-80f8b80e276b",
   "metadata": {},
   "outputs": [],
   "source": [
    "for i in range(3,6):\n",
    "    print(i)"
   ]
  },
  {
   "cell_type": "markdown",
   "id": "c1a85799-27d3-4a0e-acb0-873be80aaba6",
   "metadata": {},
   "source": [
    "### Practice 1: Print your name 10 times"
   ]
  },
  {
   "cell_type": "code",
   "execution_count": null,
   "id": "d670eacf-20eb-47f5-99da-4a776b355045",
   "metadata": {},
   "outputs": [],
   "source": [
    "for i in range(5):\n",
    "    print(\"Emmanuel\")"
   ]
  },
  {
   "cell_type": "markdown",
   "id": "ec4fa792-8521-4b23-9112-2e5f25596756",
   "metadata": {},
   "source": [
    "### Practice 2: Count by 2s"
   ]
  },
  {
   "cell_type": "code",
   "execution_count": null,
   "id": "2a21fe14-8690-4ed8-9e41-d67cbf00a36f",
   "metadata": {},
   "outputs": [],
   "source": [
    "for i in range(0, 11, 2):\n",
    "    print(i)"
   ]
  },
  {
   "cell_type": "markdown",
   "id": "76611bac-d258-4fe9-9b7d-591c8d4cbff7",
   "metadata": {},
   "source": [
    "### Loop Through Lists"
   ]
  },
  {
   "cell_type": "code",
   "execution_count": null,
   "id": "e000481c-dd31-45f0-b11d-f53c66b768d8",
   "metadata": {},
   "outputs": [],
   "source": [
    "tasks = [\"Wake up\", \"Brush Teeth\", \"Go To The Gym\", \"Code\"]\n",
    "\n",
    "for task in tasks:\n",
    "    print(\"Do not forget to\", tasks)"
   ]
  },
  {
   "cell_type": "markdown",
   "id": "d7e053ba-9faf-4663-bee8-80f82c20fa28",
   "metadata": {},
   "source": [
    "### While Loops"
   ]
  },
  {
   "cell_type": "code",
   "execution_count": null,
   "id": "eebe36fb-fb5a-44ab-942a-dbba37ae1307",
   "metadata": {},
   "outputs": [],
   "source": [
    "count = 6\n",
    "\n",
    "while count < 5:\n",
    "    print(\"Counting:\", count)\n",
    "    count += 1"
   ]
  },
  {
   "cell_type": "markdown",
   "id": "a55d310b-c2ff-4465-a7d8-0e1eb8817bcb",
   "metadata": {},
   "source": [
    "### Break Statement"
   ]
  },
  {
   "cell_type": "code",
   "execution_count": null,
   "id": "53c3feb2-e8d4-497c-9405-7485c8df85e3",
   "metadata": {},
   "outputs": [],
   "source": [
    "for i in range(10):\n",
    "    if i == 3:\n",
    "        break\n",
    "    print(i)"
   ]
  },
  {
   "cell_type": "markdown",
   "id": "9c78e790-db96-4a23-8660-91527d67c317",
   "metadata": {},
   "source": [
    "### Portfolio Mini Project: Number Guessing Game (Loop Version)"
   ]
  },
  {
   "cell_type": "code",
   "execution_count": null,
   "id": "39a6298c-d8d5-4f54-b980-923f626cb180",
   "metadata": {},
   "outputs": [],
   "source": [
    "secret = 7\n",
    "guess = -1\n",
    "\n",
    "while guess != secret:\n",
    "    guess = int(input(\"Guess a number between 1 and 10:\"))\n",
    "\n",
    "    if guess == secret:\n",
    "        print(\"You have guessed right!\")\n",
    "\n",
    "    else:\n",
    "        print(\"Try again\")"
   ]
  },
  {
   "cell_type": "code",
   "execution_count": null,
   "id": "2241bfb8-99c0-40f2-8b8d-c30fdfee7b34",
   "metadata": {},
   "outputs": [],
   "source": []
  }
 ],
 "metadata": {
  "kernelspec": {
   "display_name": "Python 3 (ipykernel)",
   "language": "python",
   "name": "python3"
  },
  "language_info": {
   "codemirror_mode": {
    "name": "ipython",
    "version": 3
   },
   "file_extension": ".py",
   "mimetype": "text/x-python",
   "name": "python",
   "nbconvert_exporter": "python",
   "pygments_lexer": "ipython3",
   "version": "3.12.3"
  }
 },
 "nbformat": 4,
 "nbformat_minor": 5
}
